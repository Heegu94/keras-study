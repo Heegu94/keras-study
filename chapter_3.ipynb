{
 "cells": [
  {
   "cell_type": "markdown",
   "metadata": {},
   "source": [
    "## 3.4.1  IMDB 데이터셋"
   ]
  },
  {
   "cell_type": "code",
   "execution_count": 1,
   "metadata": {},
   "outputs": [],
   "source": [
    "from tensorflow.keras.datasets import imdb\n",
    "\n",
    "(train_data, train_labels), (test_data, test_labels) = imdb.load_data(num_words = 10000)"
   ]
  },
  {
   "cell_type": "code",
   "execution_count": 2,
   "metadata": {},
   "outputs": [
    {
     "data": {
      "text/plain": [
       "1"
      ]
     },
     "execution_count": 2,
     "metadata": {},
     "output_type": "execute_result"
    }
   ],
   "source": [
    "train_data[0]\n",
    "train_labels[0]"
   ]
  },
  {
   "cell_type": "code",
   "execution_count": 3,
   "metadata": {},
   "outputs": [
    {
     "name": "stdout",
     "output_type": "stream",
     "text": [
      "! this film was just brilliant casting location scenery story direction everyone's really suited the part they played and you could just imagine being there robert ! is an amazing actor and now the same being director ! father came from the same scottish island as myself so i loved the fact there was a real connection with this film the witty remarks throughout the film were great it was just brilliant so much that i bought the film as soon as it was released for ! and would recommend it to everyone to watch and the fly fishing was amazing really cried at the end it was so sad and you know what they say if you cry at a film it must have been good and this definitely was also ! to the two little boy's that played the ! of norman and paul they were just brilliant children are often left out of the ! list i think because the stars that play them all grown up are such a big profile for the whole film but these children are amazing and should be praised for what they have done don't you think the whole story was so lovely because it was true and was someone's life after all that was shared with us all\n"
     ]
    }
   ],
   "source": [
    "word_idx = imdb.get_word_index()\n",
    "\n",
    "reverse_word_index = dict([value, key] for (key, value) in word_idx.items())\n",
    "\n",
    "decoded_review = \" \".join([reverse_word_index.get(i - 3, \"!\") for i in train_data[0]])\n",
    "\n",
    "print(decoded_review)"
   ]
  },
  {
   "cell_type": "markdown",
   "metadata": {},
   "source": [
    "</br>\n",
    "\n",
    "## 3.4.2 데이터 준비\n",
    "\n",
    "one-hot encoding 예시"
   ]
  },
  {
   "cell_type": "markdown",
   "metadata": {},
   "source": [
    "example 1 : train data 준비"
   ]
  },
  {
   "cell_type": "code",
   "execution_count": 4,
   "metadata": {},
   "outputs": [],
   "source": [
    "import numpy as np\n",
    "\n",
    "def vectorize_sequences(sequences, dimension = 10000):\n",
    "    results = np.zeros((len(sequences), dimension))\n",
    "    for i, sequence in enumerate(sequences):\n",
    "        results[i, sequence] = 1.\n",
    "        \n",
    "    return results\n",
    "\n",
    "x_train = vectorize_sequences(train_data)\n",
    "x_test = vectorize_sequences(test_data)\n",
    "\n",
    "y_train = np.asarray(train_labels).astype(\"float32\")\n",
    "y_test = np.asarray(test_labels).astype(\"float32\")"
   ]
  },
  {
   "cell_type": "code",
   "execution_count": 5,
   "metadata": {},
   "outputs": [
    {
     "data": {
      "text/plain": [
       "(25000,)"
      ]
     },
     "execution_count": 5,
     "metadata": {},
     "output_type": "execute_result"
    }
   ],
   "source": [
    "y_train.shape"
   ]
  },
  {
   "cell_type": "code",
   "execution_count": 6,
   "metadata": {},
   "outputs": [
    {
     "data": {
      "text/plain": [
       "(25000,)"
      ]
     },
     "execution_count": 6,
     "metadata": {},
     "output_type": "execute_result"
    }
   ],
   "source": [
    "y_test.shape"
   ]
  },
  {
   "cell_type": "markdown",
   "metadata": {},
   "source": [
    "</br>\n",
    "\n",
    "##  3.4.3 신경망 모델 만들기"
   ]
  },
  {
   "cell_type": "code",
   "execution_count": 7,
   "metadata": {},
   "outputs": [
    {
     "name": "stdout",
     "output_type": "stream",
     "text": [
      "WARNING:tensorflow:From C:\\Users\\Heeguen\\Miniconda3\\envs\\keras-py36\\lib\\site-packages\\tensorflow\\python\\ops\\init_ops.py:1251: calling VarianceScaling.__init__ (from tensorflow.python.ops.init_ops) with dtype is deprecated and will be removed in a future version.\n",
      "Instructions for updating:\n",
      "Call initializer instance with the dtype argument instead of passing it to the constructor\n"
     ]
    }
   ],
   "source": [
    "from tensorflow.keras import models\n",
    "from tensorflow.keras import layers\n",
    "\n",
    "model = models.Sequential()\n",
    "model.add(layers.Dense(16, activation=\"relu\", input_shape=(10000,)))\n",
    "model.add(layers.Dense(16, activation=\"relu\"))\n",
    "model.add(layers.Dense(1, activation=\"sigmoid\"))"
   ]
  },
  {
   "cell_type": "code",
   "execution_count": 8,
   "metadata": {},
   "outputs": [
    {
     "name": "stdout",
     "output_type": "stream",
     "text": [
      "WARNING:tensorflow:From C:\\Users\\Heeguen\\Miniconda3\\envs\\keras-py36\\lib\\site-packages\\tensorflow\\python\\ops\\nn_impl.py:180: add_dispatch_support.<locals>.wrapper (from tensorflow.python.ops.array_ops) is deprecated and will be removed in a future version.\n",
      "Instructions for updating:\n",
      "Use tf.where in 2.0, which has the same broadcast rule as np.where\n"
     ]
    }
   ],
   "source": [
    "model.compile(optimizer=\"rmsprop\",\n",
    "             loss = \"binary_crossentropy\",\n",
    "             metrics=[\"accuracy\"])"
   ]
  },
  {
   "cell_type": "code",
   "execution_count": 9,
   "metadata": {},
   "outputs": [],
   "source": [
    "from tensorflow.keras import optimizers\n",
    "from tensorflow.keras import losses\n",
    "from tensorflow.keras import metrics\n",
    "\n",
    "model.compile(optimizer=optimizers.RMSprop(lr=0.001),\n",
    "             loss=losses.binary_crossentropy,\n",
    "             metrics=[metrics.binary_accuracy])"
   ]
  },
  {
   "cell_type": "markdown",
   "metadata": {},
   "source": [
    "</br>\n",
    "\n",
    "##  3.4.4 훈련 검증"
   ]
  },
  {
   "cell_type": "code",
   "execution_count": 10,
   "metadata": {},
   "outputs": [],
   "source": [
    "x_val = x_train[:10000]\n",
    "partial_x_train = x_train[10000:]\n",
    "\n",
    "y_val = y_train[:10000]\n",
    "partial_y_train = y_train[10000:]"
   ]
  },
  {
   "cell_type": "code",
   "execution_count": 11,
   "metadata": {
    "collapsed": true,
    "jupyter": {
     "outputs_hidden": true
    }
   },
   "outputs": [
    {
     "name": "stdout",
     "output_type": "stream",
     "text": [
      "Train on 15000 samples, validate on 10000 samples\n",
      "Epoch 1/20\n",
      "15000/15000 [==============================] - 2s 122us/sample - loss: 0.5831 - acc: 0.6945 - val_loss: 0.4774 - val_acc: 0.7984\n",
      "Epoch 2/20\n",
      "15000/15000 [==============================] - 1s 95us/sample - loss: 0.3683 - acc: 0.8926 - val_loss: 0.3402 - val_acc: 0.8786\n",
      "Epoch 3/20\n",
      "15000/15000 [==============================] - 1s 95us/sample - loss: 0.2533 - acc: 0.9264 - val_loss: 0.2911 - val_acc: 0.8914\n",
      "Epoch 4/20\n",
      "15000/15000 [==============================] - 1s 95us/sample - loss: 0.1969 - acc: 0.9387 - val_loss: 0.2798 - val_acc: 0.8895\n",
      "Epoch 5/20\n",
      "15000/15000 [==============================] - 1s 95us/sample - loss: 0.1578 - acc: 0.9513 - val_loss: 0.2797 - val_acc: 0.8882\n",
      "Epoch 6/20\n",
      "15000/15000 [==============================] - 1s 98us/sample - loss: 0.1300 - acc: 0.9617 - val_loss: 0.2873 - val_acc: 0.8864\n",
      "Epoch 7/20\n",
      "15000/15000 [==============================] - 1s 96us/sample - loss: 0.1108 - acc: 0.9681 - val_loss: 0.3022 - val_acc: 0.8834\n",
      "Epoch 8/20\n",
      "15000/15000 [==============================] - 1s 96us/sample - loss: 0.0907 - acc: 0.9757 - val_loss: 0.3183 - val_acc: 0.8825\n",
      "Epoch 9/20\n",
      "15000/15000 [==============================] - 1s 95us/sample - loss: 0.0774 - acc: 0.9805 - val_loss: 0.3393 - val_acc: 0.8800\n",
      "Epoch 10/20\n",
      "15000/15000 [==============================] - 1s 95us/sample - loss: 0.0623 - acc: 0.9852 - val_loss: 0.3641 - val_acc: 0.8772\n",
      "Epoch 11/20\n",
      "15000/15000 [==============================] - 1s 95us/sample - loss: 0.0524 - acc: 0.9885 - val_loss: 0.4224 - val_acc: 0.8677\n",
      "Epoch 12/20\n",
      "15000/15000 [==============================] - 1s 95us/sample - loss: 0.0427 - acc: 0.9911 - val_loss: 0.4127 - val_acc: 0.8747\n",
      "Epoch 13/20\n",
      "15000/15000 [==============================] - 1s 95us/sample - loss: 0.0351 - acc: 0.9927 - val_loss: 0.4367 - val_acc: 0.8748\n",
      "Epoch 14/20\n",
      "15000/15000 [==============================] - 1s 95us/sample - loss: 0.0283 - acc: 0.9951 - val_loss: 0.4749 - val_acc: 0.8706\n",
      "Epoch 15/20\n",
      "15000/15000 [==============================] - 1s 95us/sample - loss: 0.0229 - acc: 0.9965 - val_loss: 0.4968 - val_acc: 0.8728\n",
      "Epoch 16/20\n",
      "15000/15000 [==============================] - 1s 95us/sample - loss: 0.0206 - acc: 0.9971 - val_loss: 0.5496 - val_acc: 0.8659\n",
      "Epoch 17/20\n",
      "15000/15000 [==============================] - 1s 96us/sample - loss: 0.0124 - acc: 0.9990 - val_loss: 0.5742 - val_acc: 0.8677\n",
      "Epoch 18/20\n",
      "15000/15000 [==============================] - 1s 95us/sample - loss: 0.0160 - acc: 0.9969 - val_loss: 0.6036 - val_acc: 0.8655\n",
      "Epoch 19/20\n",
      "15000/15000 [==============================] - 1s 95us/sample - loss: 0.0070 - acc: 0.9995 - val_loss: 0.6276 - val_acc: 0.8662\n",
      "Epoch 20/20\n",
      "15000/15000 [==============================] - 1s 95us/sample - loss: 0.0094 - acc: 0.9989 - val_loss: 0.6592 - val_acc: 0.8662\n"
     ]
    }
   ],
   "source": [
    "model.compile(optimizer='rmsprop',\n",
    "             loss='binary_crossentropy',\n",
    "             metrics=['acc'])\n",
    "\n",
    "history = model.fit(partial_x_train, partial_y_train,\n",
    "                   epochs=20,\n",
    "                   batch_size=512,\n",
    "                   validation_data=(x_val, y_val))"
   ]
  },
  {
   "cell_type": "code",
   "execution_count": 13,
   "metadata": {},
   "outputs": [
    {
     "data": {
      "image/png": "[encoded data removed]",
      "text/plain": [
       "<Figure size 432x288 with 1 Axes>"
      ]
     },
     "metadata": {
      "needs_background": "light"
     },
     "output_type": "display_data"
    }
   ],
   "source": [
    "import matplotlib.pyplot as plt\n",
    "\n",
    "history_dict = history.history\n",
    "\n",
    "loss = history_dict['loss']\n",
    "val_loss = history_dict['val_loss']\n",
    "\n",
    "epochs = range(1, len(loss)+1)\n",
    "\n",
    "plt.plot(epochs, loss, 'bo', label=\"Training loss\")\n",
    "plt.plot(epochs, val_loss, 'b', label=\"Validation loss\")\n",
    "plt.title(\"Training and Validation loss\")\n",
    "plt.xlabel(\"Epochs\")\n",
    "plt.ylabel(\"Loss\")\n",
    "plt.legend()\n",
    "\n",
    "plt.show()"
   ]
  },
  {
   "cell_type": "code",
   "execution_count": 14,
   "metadata": {},
   "outputs": [
    {
     "data": {
      "image/png": "[encoded data removed]",
      "text/plain": [
       "<Figure size 432x288 with 1 Axes>"
      ]
     },
     "metadata": {
      "needs_background": "light"
     },
     "output_type": "display_data"
    }
   ],
   "source": [
    "history_dict = history.history\n",
    "\n",
    "acc = history_dict['acc']\n",
    "val_acc = history_dict['val_acc']\n",
    "\n",
    "epochs = range(1, len(loss)+1)\n",
    "\n",
    "plt.plot(epochs, acc, 'bo', label=\"Training accuracy\")\n",
    "plt.plot(epochs, val_acc, 'b', label=\"Validation accuracy\")\n",
    "plt.title(\"Training and Validation accuracy\")\n",
    "plt.xlabel(\"Epochs\")\n",
    "plt.ylabel(\"Accuracy\")\n",
    "plt.legend()\n",
    "\n",
    "plt.show()"
   ]
  },
  {
   "cell_type": "code",
   "execution_count": 15,
   "metadata": {},
   "outputs": [
    {
     "name": "stdout",
     "output_type": "stream",
     "text": [
      "Epoch 1/4\n",
      "25000/25000 [==============================] - 2s 63us/sample - loss: 0.4917 - acc: 0.8156\n",
      "Epoch 2/4\n",
      "25000/25000 [==============================] - 1s 59us/sample - loss: 0.2847 - acc: 0.9060\n",
      "Epoch 3/4\n",
      "25000/25000 [==============================] - 1s 59us/sample - loss: 0.2140 - acc: 0.9271\n",
      "Epoch 4/4\n",
      "25000/25000 [==============================] - 1s 60us/sample - loss: 0.1764 - acc: 0.9378\n"
     ]
    },
    {
     "data": {
      "text/plain": [
       "<tensorflow.python.keras.callbacks.History at 0x249cb48fac8>"
      ]
     },
     "execution_count": 15,
     "metadata": {},
     "output_type": "execute_result"
    }
   ],
   "source": [
    "model_1 = models.Sequential()\n",
    "model_1.add(layers.Dense(16, activation='relu', input_shape=(10000,)))\n",
    "model_1.add(layers.Dense(16, activation='relu'))\n",
    "model_1.add(layers.Dense(1, activation='sigmoid'))\n",
    "\n",
    "model_1.compile(optimizer=\"rmsprop\",\n",
    "             loss=\"binary_crossentropy\",\n",
    "             metrics=[\"accuracy\"])\n",
    "\n",
    "model_1.fit(x_train, y_train, epochs=4, batch_size = 512)"
   ]
  },
  {
   "cell_type": "code",
   "execution_count": 16,
   "metadata": {},
   "outputs": [
    {
     "name": "stdout",
     "output_type": "stream",
     "text": [
      "25000/25000 [==============================] - 2s 93us/sample - loss: 0.2847 - acc: 0.8874\n"
     ]
    }
   ],
   "source": [
    "results = model_1.evaluate(x_test, y_test)"
   ]
  },
  {
   "cell_type": "code",
   "execution_count": 17,
   "metadata": {},
   "outputs": [
    {
     "data": {
      "text/plain": [
       "array([[0.18300277],\n",
       "       [0.997866  ],\n",
       "       [0.92365074],\n",
       "       ...,\n",
       "       [0.12533528],\n",
       "       [0.09508559],\n",
       "       [0.55928147]], dtype=float32)"
      ]
     },
     "execution_count": 17,
     "metadata": {},
     "output_type": "execute_result"
    }
   ],
   "source": [
    "model_1.predict(x_test)"
   ]
  },
  {
   "cell_type": "code",
   "execution_count": 23,
   "metadata": {},
   "outputs": [
    {
     "name": "stdout",
     "output_type": "stream",
     "text": [
      "Train on 15000 samples, validate on 10000 samples\n",
      "Epoch 1/20\n",
      "15000/15000 [==============================] - 2s 111us/sample - loss: 0.5106 - acc: 0.7939 - val_loss: 0.3482 - val_acc: 0.8735\n",
      "Epoch 2/20\n",
      "15000/15000 [==============================] - 1s 96us/sample - loss: 0.2511 - acc: 0.9135 - val_loss: 0.2791 - val_acc: 0.8906\n",
      "Epoch 3/20\n",
      "15000/15000 [==============================] - 1s 96us/sample - loss: 0.1647 - acc: 0.9453 - val_loss: 0.2817 - val_acc: 0.8878\n",
      "Epoch 4/20\n",
      "15000/15000 [==============================] - 1s 96us/sample - loss: 0.1199 - acc: 0.9645 - val_loss: 0.3025 - val_acc: 0.8840\n",
      "Epoch 5/20\n",
      "15000/15000 [==============================] - 1s 95us/sample - loss: 0.0855 - acc: 0.9785 - val_loss: 0.3232 - val_acc: 0.8818\n",
      "Epoch 6/20\n",
      "15000/15000 [==============================] - 1s 95us/sample - loss: 0.0618 - acc: 0.9873 - val_loss: 0.3543 - val_acc: 0.8800\n",
      "Epoch 7/20\n",
      "15000/15000 [==============================] - 1s 96us/sample - loss: 0.0447 - acc: 0.9927 - val_loss: 0.3960 - val_acc: 0.8762\n",
      "Epoch 8/20\n",
      "15000/15000 [==============================] - 1s 96us/sample - loss: 0.0344 - acc: 0.9953 - val_loss: 0.4221 - val_acc: 0.8754\n",
      "Epoch 9/20\n",
      "15000/15000 [==============================] - 1s 96us/sample - loss: 0.0237 - acc: 0.9979 - val_loss: 0.4562 - val_acc: 0.8742\n",
      "Epoch 10/20\n",
      "15000/15000 [==============================] - 1s 97us/sample - loss: 0.0169 - acc: 0.9995 - val_loss: 0.4890 - val_acc: 0.8718\n",
      "Epoch 11/20\n",
      "15000/15000 [==============================] - 1s 96us/sample - loss: 0.0128 - acc: 0.9995 - val_loss: 0.5181 - val_acc: 0.8716\n",
      "Epoch 12/20\n",
      "15000/15000 [==============================] - 1s 95us/sample - loss: 0.0099 - acc: 0.9999 - val_loss: 0.5452 - val_acc: 0.8692\n",
      "Epoch 13/20\n",
      "15000/15000 [==============================] - 1s 95us/sample - loss: 0.0077 - acc: 0.9999 - val_loss: 0.5702 - val_acc: 0.8699\n",
      "Epoch 14/20\n",
      "15000/15000 [==============================] - 1s 96us/sample - loss: 0.0062 - acc: 0.9999 - val_loss: 0.5937 - val_acc: 0.8686\n",
      "Epoch 15/20\n",
      "15000/15000 [==============================] - 1s 95us/sample - loss: 0.0051 - acc: 0.9999 - val_loss: 0.6133 - val_acc: 0.8688\n",
      "Epoch 16/20\n",
      "15000/15000 [==============================] - 1s 95us/sample - loss: 0.0043 - acc: 0.9999 - val_loss: 0.6322 - val_acc: 0.8680\n",
      "Epoch 17/20\n",
      "15000/15000 [==============================] - 1s 96us/sample - loss: 0.0037 - acc: 0.9999 - val_loss: 0.6508 - val_acc: 0.8679\n",
      "Epoch 18/20\n",
      "15000/15000 [==============================] - 1s 95us/sample - loss: 0.0032 - acc: 0.9999 - val_loss: 0.6672 - val_acc: 0.8671\n",
      "Epoch 19/20\n",
      "15000/15000 [==============================] - 1s 95us/sample - loss: 0.0027 - acc: 0.9999 - val_loss: 0.6842 - val_acc: 0.8669\n",
      "Epoch 20/20\n",
      "15000/15000 [==============================] - 1s 95us/sample - loss: 0.0024 - acc: 0.9999 - val_loss: 0.6985 - val_acc: 0.8666\n"
     ]
    }
   ],
   "source": [
    "model_2 = models.Sequential()\n",
    "model_2.add(layers.Dense(32, activation='relu', input_shape=(10000,)))\n",
    "model_2.add(layers.Dense(16, activation='relu'))\n",
    "model_2.add(layers.Dense(1, activation='sigmoid'))\n",
    "\n",
    "model_2.compile(optimizer=\"adam\",\n",
    "             loss=\"binary_crossentropy\",\n",
    "             metrics=[\"accuracy\"])\n",
    "\n",
    "history = model_2.fit(partial_x_train, partial_y_train,\n",
    "                   epochs=20,\n",
    "                   batch_size=512,\n",
    "                   validation_data=(x_val, y_val))"
   ]
  },
  {
   "cell_type": "code",
   "execution_count": 24,
   "metadata": {},
   "outputs": [
    {
     "name": "stdout",
     "output_type": "stream",
     "text": [
      "Epoch 1/3\n",
      "25000/25000 [==============================] - 2s 61us/sample - loss: 0.2381 - acc: 0.9336\n",
      "Epoch 2/3\n",
      "25000/25000 [==============================] - 1s 59us/sample - loss: 0.1214 - acc: 0.9593\n",
      "Epoch 3/3\n",
      "25000/25000 [==============================] - 1s 59us/sample - loss: 0.0813 - acc: 0.9757\n"
     ]
    },
    {
     "data": {
      "text/plain": [
       "<tensorflow.python.keras.callbacks.History at 0x14b8b006ef0>"
      ]
     },
     "execution_count": 24,
     "metadata": {},
     "output_type": "execute_result"
    }
   ],
   "source": [
    "model_2.fit(x_train, y_train, epochs=3, batch_size=512)"
   ]
  },
  {
   "cell_type": "code",
   "execution_count": 25,
   "metadata": {},
   "outputs": [
    {
     "name": "stdout",
     "output_type": "stream",
     "text": [
      "25000/25000 [==============================] - 2s 92us/sample - loss: 0.4645 - acc: 0.8581\n"
     ]
    }
   ],
   "source": [
    "results = model_2.evaluate(x_test, y_test)"
   ]
  },
  {
   "cell_type": "markdown",
   "metadata": {},
   "source": [
    "</br>\n",
    "\n",
    "# 3.5 Multi-class classification"
   ]
  },
  {
   "cell_type": "markdown",
   "metadata": {},
   "source": [
    "## 로이터 데이터셋"
   ]
  },
  {
   "cell_type": "code",
   "execution_count": 8,
   "metadata": {},
   "outputs": [],
   "source": [
    "from tensorflow.keras.datasets import reuters\n",
    "\n",
    "(train_data, train_labels), (test_data, test_labels) = reuters.load_data(num_words=10000)\n"
   ]
  },
  {
   "cell_type": "code",
   "execution_count": 9,
   "metadata": {},
   "outputs": [
    {
     "data": {
      "text/plain": [
       "'? ? ? said as a result of its december acquisition of space co it expects earnings per share in 1987 of 1 15 to 1 30 dlrs per share up from 70 cts in 1986 the company said pretax net should rise to nine to 10 mln dlrs from six mln dlrs in 1986 and rental operation revenues to 19 to 22 mln dlrs from 12 5 mln dlrs it said cash flow per share this year should be 2 50 to three dlrs reuter 3'"
      ]
     },
     "execution_count": 9,
     "metadata": {},
     "output_type": "execute_result"
    }
   ],
   "source": [
    "word_idx = reuters.get_word_index()\n",
    "reverse_word_idx = dict([(value, key) for (key, value) in word_idx.items()])\n",
    "decoded_newswire = \" \".join([reverse_word_idx.get(i - 3, \"?\") for i in train_data[0]])\n",
    "decoded_newswire"
   ]
  },
  {
   "cell_type": "markdown",
   "metadata": {},
   "source": [
    "</br>\n",
    "\n",
    "## 3.5.2 데이터 준비"
   ]
  },
  {
   "cell_type": "code",
   "execution_count": 10,
   "metadata": {},
   "outputs": [],
   "source": [
    "import numpy as np\n",
    "\n",
    "def vectorize_sequences(sequences, dimension=10000):\n",
    "    results = np.zeros((len(sequences), dimension))\n",
    "    \n",
    "    for i, sequence in enumerate(sequences):\n",
    "        results[i, sequence] = 1.\n",
    "    \n",
    "    return results\n",
    "\n",
    "x_train = vectorize_sequences(train_data)\n",
    "x_test = vectorize_sequences(test_data)"
   ]
  },
  {
   "cell_type": "code",
   "execution_count": 11,
   "metadata": {},
   "outputs": [],
   "source": [
    "def to_one_hot(labels, dimension=46):\n",
    "    results = np.zeros((len(labels), dimension))\n",
    "    \n",
    "    for i, label in enumerate(labels):\n",
    "        results[i, label] = 1.\n",
    "    \n",
    "    return results\n",
    "\n",
    "one_hot_train_labels = to_one_hot(train_labels)\n",
    "one_hot_test_labels = to_one_hot(test_labels)"
   ]
  },
  {
   "cell_type": "markdown",
   "metadata": {},
   "source": [
    "</br>\n",
    "\n",
    "#### 위와 같이 직접 **One-hot-encoding**을 하는 경우가 있지만, 아래의 예제 처럼 keras에서는 categorical data 에 대해 범주형 인코딩(categorical encoding)을 해주는 내장함수가 있다."
   ]
  },
  {
   "cell_type": "code",
   "execution_count": 12,
   "metadata": {},
   "outputs": [],
   "source": [
    "from tensorflow.keras.utils import to_categorical\n",
    "\n",
    "one_hot_train_labels = to_categorical(train_labels)\n",
    "one_hot_test_labels = to_categorical(test_labels)"
   ]
  },
  {
   "cell_type": "markdown",
   "metadata": {},
   "source": [
    "</br>\n",
    "\n",
    "## 3.5.3 모델 구성"
   ]
  },
  {
   "cell_type": "code",
   "execution_count": 13,
   "metadata": {},
   "outputs": [],
   "source": [
    "from tensorflow.keras import models\n",
    "from tensorflow.keras import layers\n",
    "\n",
    "model = models.Sequential()\n",
    "model.add(layers.Dense(64, activation=\"relu\", input_shape=(10000,)))\n",
    "model.add(layers.Dense(64, activation=\"relu\"))\n",
    "model.add(layers.Dense(46, activation=\"softmax\"))"
   ]
  },
  {
   "cell_type": "code",
   "execution_count": 14,
   "metadata": {},
   "outputs": [],
   "source": [
    "model.compile(optimizer='rmsprop',\n",
    "             loss='categorical_crossentropy',\n",
    "             metrics=['accuracy'])"
   ]
  },
  {
   "cell_type": "markdown",
   "metadata": {},
   "source": [
    "</br>\n",
    "\n",
    "## 3.5.4 훈련 검증"
   ]
  },
  {
   "cell_type": "code",
   "execution_count": 15,
   "metadata": {},
   "outputs": [],
   "source": [
    "x_val = x_train[:1000]\n",
    "partial_x_train = x_train[1000:]\n",
    "\n",
    "y_val = one_hot_train_labels[:1000]\n",
    "partial_y_train = one_hot_train_labels[1000:]"
   ]
  },
  {
   "cell_type": "code",
   "execution_count": 16,
   "metadata": {},
   "outputs": [
    {
     "name": "stdout",
     "output_type": "stream",
     "text": [
      "Model: \"sequential_3\"\n",
      "_________________________________________________________________\n",
      "Layer (type)                 Output Shape              Param #   \n",
      "=================================================================\n",
      "dense_9 (Dense)              (None, 64)                640064    \n",
      "_________________________________________________________________\n",
      "dense_10 (Dense)             (None, 64)                4160      \n",
      "_________________________________________________________________\n",
      "dense_11 (Dense)             (None, 46)                2990      \n",
      "=================================================================\n",
      "Total params: 647,214\n",
      "Trainable params: 647,214\n",
      "Non-trainable params: 0\n",
      "_________________________________________________________________\n"
     ]
    }
   ],
   "source": [
    "model.summary()"
   ]
  },
  {
   "cell_type": "code",
   "execution_count": 17,
   "metadata": {},
   "outputs": [
    {
     "name": "stdout",
     "output_type": "stream",
     "text": [
      "Train on 7982 samples, validate on 1000 samples\n",
      "Epoch 1/20\n",
      "7982/7982 [==============================] - 1s 90us/sample - loss: 2.5795 - acc: 0.5049 - val_loss: 1.7272 - val_acc: 0.6420\n",
      "Epoch 2/20\n",
      "7982/7982 [==============================] - 1s 67us/sample - loss: 1.4383 - acc: 0.6987 - val_loss: 1.3246 - val_acc: 0.7120\n",
      "Epoch 3/20\n",
      "7982/7982 [==============================] - 1s 68us/sample - loss: 1.0753 - acc: 0.7732 - val_loss: 1.1399 - val_acc: 0.7570\n",
      "Epoch 4/20\n",
      "7982/7982 [==============================] - 1s 68us/sample - loss: 0.8493 - acc: 0.8186 - val_loss: 1.0564 - val_acc: 0.7540\n",
      "Epoch 5/20\n",
      "7982/7982 [==============================] - 1s 68us/sample - loss: 0.6830 - acc: 0.8533 - val_loss: 0.9615 - val_acc: 0.8020\n",
      "Epoch 6/20\n",
      "7982/7982 [==============================] - 1s 67us/sample - loss: 0.5480 - acc: 0.8866 - val_loss: 0.9194 - val_acc: 0.8080\n",
      "Epoch 7/20\n",
      "7982/7982 [==============================] - 1s 67us/sample - loss: 0.4443 - acc: 0.9079 - val_loss: 0.8971 - val_acc: 0.8080\n",
      "Epoch 8/20\n",
      "7982/7982 [==============================] - 1s 67us/sample - loss: 0.3627 - acc: 0.9228 - val_loss: 0.9116 - val_acc: 0.8070\n",
      "Epoch 9/20\n",
      "7982/7982 [==============================] - 1s 67us/sample - loss: 0.2970 - acc: 0.9364 - val_loss: 0.9040 - val_acc: 0.8060\n",
      "Epoch 10/20\n",
      "7982/7982 [==============================] - 1s 68us/sample - loss: 0.2517 - acc: 0.9436 - val_loss: 0.8949 - val_acc: 0.8120\n",
      "Epoch 11/20\n",
      "7982/7982 [==============================] - 1s 66us/sample - loss: 0.2190 - acc: 0.9490 - val_loss: 0.8911 - val_acc: 0.8190\n",
      "Epoch 12/20\n",
      "7982/7982 [==============================] - 1s 66us/sample - loss: 0.1864 - acc: 0.9528 - val_loss: 0.9379 - val_acc: 0.8070\n",
      "Epoch 13/20\n",
      "7982/7982 [==============================] - 1s 68us/sample - loss: 0.1664 - acc: 0.9544 - val_loss: 0.9429 - val_acc: 0.8120\n",
      "Epoch 14/20\n",
      "7982/7982 [==============================] - 1s 67us/sample - loss: 0.1537 - acc: 0.9557 - val_loss: 0.9834 - val_acc: 0.8060\n",
      "Epoch 15/20\n",
      "7982/7982 [==============================] - 1s 67us/sample - loss: 0.1442 - acc: 0.9550 - val_loss: 0.9723 - val_acc: 0.8100\n",
      "Epoch 16/20\n",
      "7982/7982 [==============================] - 1s 67us/sample - loss: 0.1340 - acc: 0.9567 - val_loss: 1.0424 - val_acc: 0.8020\n",
      "Epoch 17/20\n",
      "7982/7982 [==============================] - 1s 67us/sample - loss: 0.1261 - acc: 0.9564 - val_loss: 1.0785 - val_acc: 0.7980\n",
      "Epoch 18/20\n",
      "7982/7982 [==============================] - 1s 68us/sample - loss: 0.1268 - acc: 0.9562 - val_loss: 1.0686 - val_acc: 0.7950\n",
      "Epoch 19/20\n",
      "7982/7982 [==============================] - 1s 67us/sample - loss: 0.1157 - acc: 0.9570 - val_loss: 1.0575 - val_acc: 0.7980\n",
      "Epoch 20/20\n",
      "7982/7982 [==============================] - 1s 67us/sample - loss: 0.1149 - acc: 0.9583 - val_loss: 1.0786 - val_acc: 0.8050\n"
     ]
    }
   ],
   "source": [
    "history = model.fit(partial_x_train, partial_y_train,\n",
    "                   epochs=20,\n",
    "                   batch_size=512,\n",
    "                   validation_data=(x_val, y_val))"
   ]
  },
  {
   "cell_type": "code",
   "execution_count": 19,
   "metadata": {},
   "outputs": [
    {
     "data": {
      "image/png": "[encoded data removed]",
      "text/plain": [
       "<Figure size 432x288 with 1 Axes>"
      ]
     },
     "metadata": {
      "needs_background": "light"
     },
     "output_type": "display_data"
    }
   ],
   "source": [
    "import matplotlib.pyplot as plt\n",
    "\n",
    "history_dict = history.history\n",
    "\n",
    "loss = history_dict['loss']\n",
    "val_loss = history_dict['val_loss']\n",
    "\n",
    "epochs = range(1, len(loss)+1)\n",
    "\n",
    "plt.plot(epochs, loss, 'bo', label=\"Training loss\")\n",
    "plt.plot(epochs, val_loss, 'b', label=\"Validation loss\")\n",
    "plt.title(\"Training and Validation loss\")\n",
    "plt.xlabel(\"Epochs\")\n",
    "plt.ylabel(\"Loss\")\n",
    "plt.legend()\n",
    "\n",
    "plt.show()"
   ]
  },
  {
   "cell_type": "code",
   "execution_count": 20,
   "metadata": {},
   "outputs": [
    {
     "data": {
      "image/png": "[encoded data removed]",
      "text/plain": [
       "<Figure size 432x288 with 1 Axes>"
      ]
     },
     "metadata": {
      "needs_background": "light"
     },
     "output_type": "display_data"
    }
   ],
   "source": [
    "plt.clf()\n",
    "\n",
    "acc = history_dict['acc']\n",
    "val_acc = history_dict['val_acc']\n",
    "\n",
    "epochs = range(1, len(loss)+1)\n",
    "\n",
    "plt.plot(epochs, acc, 'bo', label=\"Training accuracy\")\n",
    "plt.plot(epochs, val_acc, 'b', label=\"Validation accuracy\")\n",
    "plt.title(\"Training and Validation accuracy\")\n",
    "plt.xlabel(\"Epochs\")\n",
    "plt.ylabel(\"Accuracy\")\n",
    "plt.legend()\n",
    "\n",
    "plt.show()"
   ]
  },
  {
   "cell_type": "code",
   "execution_count": 21,
   "metadata": {},
   "outputs": [
    {
     "name": "stdout",
     "output_type": "stream",
     "text": [
      "Train on 7982 samples, validate on 1000 samples\n",
      "Epoch 1/9\n",
      "7982/7982 [==============================] - 1s 83us/sample - loss: 2.5559 - acc: 0.5509 - val_loss: 1.6821 - val_acc: 0.6460\n",
      "Epoch 2/9\n",
      "7982/7982 [==============================] - 1s 67us/sample - loss: 1.4079 - acc: 0.7082 - val_loss: 1.2883 - val_acc: 0.7200\n",
      "Epoch 3/9\n",
      "7982/7982 [==============================] - 1s 67us/sample - loss: 1.0624 - acc: 0.7719 - val_loss: 1.1209 - val_acc: 0.7710\n",
      "Epoch 4/9\n",
      "7982/7982 [==============================] - 1s 68us/sample - loss: 0.8409 - acc: 0.8187 - val_loss: 1.0336 - val_acc: 0.7810\n",
      "Epoch 5/9\n",
      "7982/7982 [==============================] - 1s 68us/sample - loss: 0.6734 - acc: 0.8520 - val_loss: 0.9695 - val_acc: 0.7900\n",
      "Epoch 6/9\n",
      "7982/7982 [==============================] - 1s 67us/sample - loss: 0.5430 - acc: 0.8864 - val_loss: 0.9306 - val_acc: 0.8040\n",
      "Epoch 7/9\n",
      "7982/7982 [==============================] - 1s 67us/sample - loss: 0.4346 - acc: 0.9109 - val_loss: 0.9161 - val_acc: 0.8110\n",
      "Epoch 8/9\n",
      "7982/7982 [==============================] - 1s 68us/sample - loss: 0.3591 - acc: 0.9268 - val_loss: 0.9137 - val_acc: 0.8100\n",
      "Epoch 9/9\n",
      "7982/7982 [==============================] - 1s 68us/sample - loss: 0.2914 - acc: 0.9385 - val_loss: 0.9014 - val_acc: 0.8110\n",
      "2246/2246 [==============================] - 0s 106us/sample - loss: 1.0019 - acc: 0.7845\n"
     ]
    }
   ],
   "source": [
    "model = models.Sequential()\n",
    "\n",
    "model.add(layers.Dense(64, activation=\"relu\", input_shape=(10000,)))\n",
    "model.add(layers.Dense(64, activation=\"relu\"))\n",
    "model.add(layers.Dense(46, activation=\"softmax\"))\n",
    "\n",
    "model.compile(optimizer=\"rmsprop\",\n",
    "             loss=\"categorical_crossentropy\",\n",
    "             metrics=[\"accuracy\"])\n",
    "\n",
    "model.fit(partial_x_train, partial_y_train,\n",
    "         epochs=9,\n",
    "         batch_size = 512,\n",
    "         validation_data = (x_val, y_val))\n",
    "\n",
    "results = model.evaluate(x_test, one_hot_test_labels)"
   ]
  },
  {
   "cell_type": "markdown",
   "metadata": {},
   "source": [
    "</br>\n",
    "\n",
    "## 3.5.5 새로운 데이터 예측"
   ]
  },
  {
   "cell_type": "code",
   "execution_count": 22,
   "metadata": {},
   "outputs": [],
   "source": [
    "predictions = model.predict(x_test)"
   ]
  },
  {
   "cell_type": "code",
   "execution_count": 23,
   "metadata": {},
   "outputs": [
    {
     "data": {
      "text/plain": [
       "(46,)"
      ]
     },
     "execution_count": 23,
     "metadata": {},
     "output_type": "execute_result"
    }
   ],
   "source": [
    "predictions[0].shape"
   ]
  },
  {
   "cell_type": "code",
   "execution_count": 24,
   "metadata": {},
   "outputs": [
    {
     "data": {
      "text/plain": [
       "1.0000001"
      ]
     },
     "execution_count": 24,
     "metadata": {},
     "output_type": "execute_result"
    }
   ],
   "source": [
    "np.sum(predictions[0])"
   ]
  },
  {
   "cell_type": "code",
   "execution_count": 25,
   "metadata": {},
   "outputs": [
    {
     "data": {
      "text/plain": [
       "3"
      ]
     },
     "execution_count": 25,
     "metadata": {},
     "output_type": "execute_result"
    }
   ],
   "source": [
    "np.argmax(predictions[0])"
   ]
  },
  {
   "cell_type": "markdown",
   "metadata": {},
   "source": [
    "</br>\n",
    "\n",
    "# 3.6 Regression"
   ]
  },
  {
   "cell_type": "code",
   "execution_count": 1,
   "metadata": {},
   "outputs": [],
   "source": [
    "from tensorflow.keras.datasets import boston_housing\n",
    "\n",
    "(train_data, train_targets),(test_data, test_targets) = boston_housing.load_data()\n"
   ]
  },
  {
   "cell_type": "code",
   "execution_count": 2,
   "metadata": {},
   "outputs": [
    {
     "data": {
      "text/plain": [
       "(404, 13)"
      ]
     },
     "execution_count": 2,
     "metadata": {},
     "output_type": "execute_result"
    }
   ],
   "source": [
    "train_data.shape"
   ]
  },
  {
   "cell_type": "code",
   "execution_count": 3,
   "metadata": {},
   "outputs": [
    {
     "data": {
      "text/plain": [
       "(102, 13)"
      ]
     },
     "execution_count": 3,
     "metadata": {},
     "output_type": "execute_result"
    }
   ],
   "source": [
    "test_data.shape"
   ]
  },
  {
   "cell_type": "markdown",
   "metadata": {},
   "source": [
    "</br>\n",
    "\n",
    "## 3.6.2 데이터 준비\n",
    "\n",
    "#### 상이한 스케일을 가진 값을 특성별로 정규화(regularization)해주어야 한다.\n",
    "\n",
    "##### 1. 입력 데이터에 있는 각각의 특성(입력 데이터의 column)에 대해서 특성의 평균을 빼고 표준 편차로 나누어준다.\n",
    "##### 2. 특성의 중앙이 0 근처에 맞춰지고 표준편차는 1이 된다."
   ]
  },
  {
   "cell_type": "code",
   "execution_count": 4,
   "metadata": {},
   "outputs": [],
   "source": [
    "mean = train_data.mean(axis=0)\n",
    "std = train_data.std(axis = 0)\n",
    "\n",
    "train_data -= mean\n",
    "train_data /= std\n",
    "\n",
    "test_data -= mean\n",
    "test_data /= std"
   ]
  },
  {
   "cell_type": "markdown",
   "metadata": {},
   "source": [
    "</br>\n",
    "\n",
    "## 3.6.3 모델 구성\n",
    "\n",
    "#### training sample 수가 적기 때문에, 과대적합이 일어날 수 있다 그러므로 작은 모델을 사용하는 것이 좋다"
   ]
  },
  {
   "cell_type": "code",
   "execution_count": 5,
   "metadata": {},
   "outputs": [],
   "source": [
    "from tensorflow.keras import models\n",
    "from tensorflow.keras import layers\n",
    "\n",
    "def build_model():\n",
    "    model = models.Sequential()\n",
    "    model.add(layers.Dense(64, activation=\"relu\", input_shape = (train_data.shape[1],)))\n",
    "    model.add(layers.Dense(64, activation=\"relu\"))\n",
    "    model.add(layers.Dense(1))\n",
    "    \n",
    "    model.compile(optimizer=\"rmsprop\", loss=\"mse\", metrics=[\"mae\"])\n",
    "    \n",
    "    return model"
   ]
  },
  {
   "cell_type": "markdown",
   "metadata": {},
   "source": [
    "</br>\n",
    "\n",
    "## 3.6.4 K-fold\n",
    "\n",
    "#### training sample 수가 적기 때문에, K 개로 분할 한 후, K 개의 모델을 만들어 K-1 개의 분할에서 훈련하고 나머지 분할에서 평가.\n",
    "\n",
    "#### 모델의 검증 점수는 K 개의 검증 점수 평균"
   ]
  },
  {
   "cell_type": "code",
   "execution_count": 13,
   "metadata": {},
   "outputs": [
    {
     "name": "stdout",
     "output_type": "stream",
     "text": [
      "처리중인 fold # 0\n",
      "101/101 [==============================] - 0s 217us/sample - loss: 10.2544 - mean_absolute_error: 2.4925\n",
      "처리중인 fold # 1\n",
      "101/101 [==============================] - 0s 237us/sample - loss: 11.6489 - mean_absolute_error: 2.5076\n",
      "처리중인 fold # 2\n",
      "101/101 [==============================] - 0s 276us/sample - loss: 14.0780 - mean_absolute_error: 2.6356\n",
      "처리중인 fold # 3\n",
      "101/101 [==============================] - 0s 296us/sample - loss: 13.9764 - mean_absolute_error: 2.5069\n"
     ]
    }
   ],
   "source": [
    "import numpy as np\n",
    "\n",
    "k = 4\n",
    "num_val_samples = len(train_data) // k\n",
    "num_epochs = 100\n",
    "all_scores = []\n",
    "\n",
    "for i in range(k):\n",
    "    print('처리중인 fold #', i)\n",
    "    val_data = train_data[i * num_val_samples : (i+1) * num_val_samples]\n",
    "    val_target = train_labels[i * num_val_samples : (i+1) * num_val_samples]\n",
    "    \n",
    "    partial_train_data = np.concatenate([train_data[: i * num_val_samples],\n",
    "                                        train_data[(i + 1) * num_val_samples:]], axis=0)\n",
    "    \n",
    "    partial_train_target = np.concatenate([train_labels[: i * num_val_samples],\n",
    "                                        train_labels[(i + 1) * num_val_samples:]], axis=0)\n",
    "    \n",
    "    model = build_model()\n",
    "    \n",
    "    model.fit(partial_train_data, partial_train_target,\n",
    "             epochs = num_epochs,\n",
    "             batch_size = 1, verbose=0)\n",
    "    \n",
    "    val_mse, val_mae = model.evaluate(val_data, val_target)\n",
    "    all_scores.append(val_mae)"
   ]
  },
  {
   "cell_type": "code",
   "execution_count": 14,
   "metadata": {},
   "outputs": [
    {
     "data": {
      "text/plain": [
       "[2.4924672, 2.507594, 2.6356325, 2.5069432]"
      ]
     },
     "execution_count": 14,
     "metadata": {},
     "output_type": "execute_result"
    }
   ],
   "source": [
    "all_scores"
   ]
  },
  {
   "cell_type": "code",
   "execution_count": 15,
   "metadata": {},
   "outputs": [
    {
     "data": {
      "text/plain": [
       "2.5356593"
      ]
     },
     "execution_count": 15,
     "metadata": {},
     "output_type": "execute_result"
    }
   ],
   "source": [
    "np.mean(all_scores)"
   ]
  },
  {
   "cell_type": "markdown",
   "metadata": {},
   "source": [
    "</br>\n",
    "\n",
    "### MAE 오차를 더 낮춰보자!"
   ]
  },
  {
   "cell_type": "code",
   "execution_count": 6,
   "metadata": {},
   "outputs": [
    {
     "name": "stdout",
     "output_type": "stream",
     "text": [
      "처리중인 fold # 0\n",
      "WARNING:tensorflow:From C:\\Users\\Heeguen\\Miniconda3\\envs\\keras-py36\\lib\\site-packages\\tensorflow\\python\\ops\\init_ops.py:1251: calling VarianceScaling.__init__ (from tensorflow.python.ops.init_ops) with dtype is deprecated and will be removed in a future version.\n",
      "Instructions for updating:\n",
      "Call initializer instance with the dtype argument instead of passing it to the constructor\n",
      "처리중인 fold # 1\n",
      "처리중인 fold # 2\n",
      "처리중인 fold # 3\n"
     ]
    }
   ],
   "source": [
    "import numpy as np\n",
    "\n",
    "k = 4\n",
    "num_val_samples = len(train_data) // k\n",
    "num_epochs = 500\n",
    "all_mae_histories = []\n",
    "\n",
    "for i in range(k):\n",
    "    print('처리중인 fold #', i)\n",
    "    val_data = train_data[i * num_val_samples : (i+1) * num_val_samples]\n",
    "    val_target = train_targets[i * num_val_samples : (i+1) * num_val_samples]\n",
    "    \n",
    "    partial_train_data = np.concatenate([train_data[: i * num_val_samples],\n",
    "                                        train_data[(i + 1) * num_val_samples:]], axis=0)\n",
    "    \n",
    "    partial_train_target = np.concatenate([train_targets[: i * num_val_samples],\n",
    "                                        train_targets[(i + 1) * num_val_samples:]], axis=0)\n",
    "    \n",
    "    model = build_model()\n",
    "    \n",
    "    history = model.fit(partial_train_data, partial_train_target,\n",
    "                        epochs = num_epochs, batch_size = 1, verbose=0,\n",
    "                        validation_data=(val_data, val_target))\n",
    "    \n",
    "    mae_history = history.history['val_mean_absolute_error']\n",
    "    all_mae_histories.append(mae_history)"
   ]
  },
  {
   "cell_type": "code",
   "execution_count": 7,
   "metadata": {},
   "outputs": [],
   "source": [
    "average_mae_history =[np.mean([x[i] for x in all_mae_histories]) for i in range(num_epochs)]"
   ]
  },
  {
   "cell_type": "code",
   "execution_count": 9,
   "metadata": {},
   "outputs": [
    {
     "data": {
      "image/png": "[encoded data removed]",
      "text/plain": [
       "<Figure size 432x288 with 1 Axes>"
      ]
     },
     "metadata": {
      "needs_background": "light"
     },
     "output_type": "display_data"
    }
   ],
   "source": [
    "import matplotlib.pyplot as plt\n",
    "\n",
    "plt.plot(range(1, len(average_mae_history) + 1), average_mae_history)\n",
    "\n",
    "plt.xlabel('Epochs')\n",
    "plt.ylabel('Validation MAE')\n",
    "plt.show()"
   ]
  },
  {
   "cell_type": "markdown",
   "metadata": {},
   "source": [
    "</br>\n",
    "\n",
    "#### 지수이동 평균 (exponential moving average)"
   ]
  },
  {
   "cell_type": "code",
   "execution_count": 10,
   "metadata": {},
   "outputs": [
    {
     "data": {
      "image/png": "[encoded data removed]",
      "text/plain": [
       "<Figure size 432x288 with 1 Axes>"
      ]
     },
     "metadata": {
      "needs_background": "light"
     },
     "output_type": "display_data"
    }
   ],
   "source": [
    "def smooth_curve(points, factor=0.9):\n",
    "    smoothed_points = []\n",
    "    \n",
    "    for point in points:\n",
    "        if smoothed_points:\n",
    "            previous = smoothed_points[-1]\n",
    "            smoothed_points.append(previous * factor + point * (1 - factor))\n",
    "        else:\n",
    "            smoothed_points.append(point)\n",
    "            \n",
    "    return smoothed_points\n",
    "\n",
    "smooth_mae_history = smooth_curve(average_mae_history[10:])\n",
    "\n",
    "plt.plot(range(1, len(smooth_mae_history) + 1), smooth_mae_history)\n",
    "plt.xlabel(\"Epochs\")\n",
    "plt.ylabel(\"Validation MAE\")\n",
    "plt.show()"
   ]
  },
  {
   "cell_type": "code",
   "execution_count": 11,
   "metadata": {},
   "outputs": [
    {
     "name": "stdout",
     "output_type": "stream",
     "text": [
      "102/102 [==============================] - 0s 293us/sample - loss: 19.9013 - mean_absolute_error: 2.6587\n"
     ]
    }
   ],
   "source": [
    "model = build_model()\n",
    "\n",
    "model.fit(train_data, train_targets, \n",
    "         epochs = 80,\n",
    "         batch_size = 16, \n",
    "         verbose = 0)\n",
    "\n",
    "test_mse_score, test_mae_score = model.evaluate(test_data, test_targets)"
   ]
  },
  {
   "cell_type": "code",
   "execution_count": 12,
   "metadata": {},
   "outputs": [
    {
     "data": {
      "text/plain": [
       "2.658687"
      ]
     },
     "execution_count": 12,
     "metadata": {},
     "output_type": "execute_result"
    }
   ],
   "source": [
    "test_mae_score"
   ]
  },
  {
   "cell_type": "code",
   "execution_count": null,
   "metadata": {},
   "outputs": [],
   "source": []
  }
 ],
 "metadata": {
  "kernelspec": {
   "display_name": "Python 3",
   "language": "python",
   "name": "python3"
  },
  "language_info": {
   "codemirror_mode": {
    "name": "ipython",
    "version": 3
   },
   "file_extension": ".py",
   "mimetype": "text/x-python",
   "name": "python",
   "nbconvert_exporter": "python",
   "pygments_lexer": "ipython3",
   "version": "3.6.9"
  }
 },
 "nbformat": 4,
 "nbformat_minor": 4
}
